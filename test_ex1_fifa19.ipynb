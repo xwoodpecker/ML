{
 "cells": [
  {
   "cell_type": "markdown",
   "metadata": {
    "collapsed": true,
    "pycharm": {
     "name": "#%% md\n"
    }
   },
   "source": [
    "# Values of Soccer Players in FIFA 2019\n",
    "\n",
    "## 5-fold cross-validation\n",
    "We want to predict Value (EUR) based on the features:\n",
    "- Age \n",
    "- Overall\n",
    "- Potential\n",
    "- International Reputation\n",
    "- Weight (kg)\n",
    "- Height (cm)"
   ]
  },
  {
   "cell_type": "code",
   "execution_count": 14,
   "outputs": [],
   "source": [
    "import pandas as pd \n",
    "\n",
    "report = pd.read_csv('/Users/WoodPecker/PycharmProjects/JupyterProject/fifa_clean.csv', header=0)"
   ],
   "metadata": {
    "collapsed": false,
    "pycharm": {
     "name": "#%%\n",
     "is_executing": false
    }
   }
  },
  {
   "cell_type": "code",
   "execution_count": null,
   "outputs": [],
   "source": [
    "import math\n",
    "import numpy as np\n",
    "from sklearn import linear_model\n",
    "from sklearn.model_selection import KFold\n",
    "\n",
    "def process(x, y):\n",
    "    reg = linear_model.LinearRegression()\n",
    "    kf = KFold(n_splits=5, shuffle=True)\n",
    "    kf.get_n_splits(x)\n",
    "    RMSE = 0\n",
    "    counter = 0\n",
    "    for train_index, test_index in kf.split(x):\n",
    "        reg.fit(x[train_index], y[train_index])\n",
    "        MSE = sum((reg.predict(x[test_index]) - y[test_index])**2) / len(y[test_index])\n",
    "        counter += 1\n",
    "        print(\"Round \", counter, \": MSE = \", MSE)\n",
    "        RMSE +=  math.sqrt(MSE)\n",
    "    RMSE = RMSE / 5    \n",
    "    print(\"RMSE: \", RMSE)\n",
    "\n",
    "    \n",
    "x = report.iloc[:,[4,6,7,10,15,14]].values\n",
    "y = report.iloc[:,49].values \n",
    "\n",
    "process(x, y)"
   ],
   "metadata": {
    "collapsed": false,
    "pycharm": {
     "name": "#%%\n",
     "is_executing": true
    }
   }
  },
  {
   "cell_type": "markdown",
   "source": [
    "## Additional Features\n",
    "We improve our model by adding the following features:\n",
    "- Nationality (one-hot-encoded)\n",
    "- SprintSpeed\n",
    "- ShotPower\n",
    "- Stamina\n",
    "- Penalties\n",
    "- Derived Feature as a sum of:\n",
    "    - Agility\n",
    "    - Reactions\n",
    "    - Balance"
   ],
   "metadata": {
    "collapsed": false,
    "pycharm": {
     "name": "#%% md\n"
    }
   }
  },
  {
   "cell_type": "code",
   "execution_count": 16,
   "outputs": [
    {
     "name": "stdout",
     "text": [
      "Round  1 : MSE =  12.754722316966655\n",
      "Round  2 : MSE =  12.559712119038464\n",
      "Round  3 : MSE =  12.398403350144237\n",
      "Round  4 : MSE =  13.17256899489292\n",
      "Round  5 : MSE =  11.942991957572097\n",
      "RMSE:  3.544349458102211\n"
     ],
     "output_type": "stream"
    }
   ],
   "source": [
    "from sklearn.preprocessing import OneHotEncoder\n",
    "from sklearn.preprocessing import LabelEncoder\n",
    "enc = OneHotEncoder(handle_unknown='ignore')\n",
    "\n",
    "x = report.iloc[:, [13,14,15,16,17,18,19,20,21,22,23,24,25,26,\n",
    "                   27,28,29,30,31,32,33,34,35,36,37,38,39,40,\n",
    "                   41,42,43,44,45,46,47,48]].values\n",
    "\n",
    "#derived = [report.iloc[:, [27,28,29]].sum(axis=1).values]\n",
    "#derived = np.transpose(derived)\n",
    "#x = np.column_stack((x, derived))\n",
    "\n",
    "labelencoder = LabelEncoder()\n",
    "x[:, 0] = labelencoder.fit_transform(x[:, 0])\n",
    "onehotencoder = OneHotEncoder()\n",
    "onehotencoder.fit(x)\n",
    "x = onehotencoder.transform(x)\n",
    "\n",
    "process(x, y)\n"
   ],
   "metadata": {
    "collapsed": false,
    "pycharm": {
     "name": "#%%\n",
     "is_executing": false
    }
   }
  }
 ],
 "metadata": {
  "kernelspec": {
   "display_name": "Python 3",
   "language": "python",
   "name": "python3"
  },
  "language_info": {
   "codemirror_mode": {
    "name": "ipython",
    "version": 2
   },
   "file_extension": ".py",
   "mimetype": "text/x-python",
   "name": "python",
   "nbconvert_exporter": "python",
   "pygments_lexer": "ipython2",
   "version": "2.7.6"
  },
  "pycharm": {
   "stem_cell": {
    "cell_type": "raw",
    "source": [],
    "metadata": {
     "collapsed": false
    }
   }
  }
 },
 "nbformat": 4,
 "nbformat_minor": 0
}