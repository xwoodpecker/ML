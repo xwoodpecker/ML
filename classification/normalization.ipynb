{
 "cells": [
  {
   "cell_type": "code",
   "execution_count": 3,
   "metadata": {
    "collapsed": true,
    "pycharm": {
     "is_executing": false
    }
   },
   "outputs": [
    {
     "name": "stdout",
     "text": [
      "0.6962025316455697\n"
     ],
     "output_type": "stream"
    }
   ],
   "source": [
    "import numpy as np\n",
    "import pandas as pd\n",
    "from sklearn.model_selection import train_test_split\n",
    "from sklearn.neighbors import KNeighborsClassifier\n",
    "from sklearn.preprocessing import MinMaxScaler\n",
    "from sklearn.metrics import accuracy_score\n",
    "\n",
    "# load data\n",
    "cars = pd.read_csv(\"/Users/WoodPecker/PycharmProjects/JupyterProject/auto-mpg.data.txt\",sep=\"\\s+\",header=None)\n",
    "# extract power and weight as data matrix X\n",
    "X = cars.iloc[:, [3,4]].values\n",
    "# extract origin (0:Non-U.S. / 1:U.S.) as target vector y\n",
    "y = cars.iloc[:, 7].values\n",
    "# split into training data (80%) and test data (20%)\n",
    "X_train, X_test, y_train, y_test = train_test_split(X, y, test_size=0.2,random_state=0)\n",
    "\n",
    "min_max_scaler = MinMaxScaler()\n",
    "min_max_scaler.fit(X_train) # determine min and max\n",
    "X_train_normalized = min_max_scaler.transform(X_train)\n",
    "X_test_normalized = min_max_scaler.transform(X_test)\n",
    "# use kNN with k = 3\n",
    "knn = KNeighborsClassifier(n_neighbors=3)\n",
    "knn.fit(X_train_normalized, y_train)\n",
    "y_predicted = knn.predict(X_test_normalized)\n",
    "# compute accuracy\n",
    "print(accuracy_score(y_true=y_test, y_pred=y_predicted)) # 0.696202531646\n"
   ]
  }
 ],
 "metadata": {
  "kernelspec": {
   "display_name": "Python 3",
   "language": "python",
   "name": "python3"
  },
  "language_info": {
   "codemirror_mode": {
    "name": "ipython",
    "version": 2
   },
   "file_extension": ".py",
   "mimetype": "text/x-python",
   "name": "python",
   "nbconvert_exporter": "python",
   "pygments_lexer": "ipython2",
   "version": "2.7.6"
  },
  "pycharm": {
   "stem_cell": {
    "cell_type": "raw",
    "source": [],
    "metadata": {
     "collapsed": false
    }
   }
  }
 },
 "nbformat": 4,
 "nbformat_minor": 0
}