{
 "cells": [
  {
   "cell_type": "markdown",
   "source": [
    "# More Regression in Python\n",
    "Example: Non-numerical features\n",
    "<br>\n",
    "&nbsp;&nbsp;&nbsp;&nbsp;&nbsp;&nbsp; \n",
    "$\\hat{y} = w_o + w_1 \\cdot x_1 + w_2 \\cdot x_2 + w_3 \\cdot x_3 $  \n",
    "<br>\n",
    "Where $x_1$ corresponds to the horsepower, $x_2$ corresponds to the weight, $x_3$ corresponds to the origin\n",
    " and $\\hat{y}$ corresponds to the fuel efficiency."
   ],
   "metadata": {
    "collapsed": false
   }
  },
  {
   "cell_type": "markdown",
   "source": [
    "## Step 1: Data Import\n",
    "Data will be imported using the pandas library."
   ],
   "metadata": {
    "collapsed": false,
    "pycharm": {
     "name": "#%% md\n"
    }
   }
  },
  {
   "cell_type": "code",
   "execution_count": 51,
   "metadata": {
    "collapsed": true,
    "pycharm": {
     "is_executing": false,
     "name": "#%%\n"
    }
   },
   "outputs": [],
   "source": [
    "import pandas as pd #short name for library\n",
    "\n",
    "cars = pd.read_csv('/Users/WoodPecker/PycharmProjects/JupyterProject/auto-mpg.data.txt', header=None, sep='\\s+')\n"
   ]
  },
  {
   "cell_type": "markdown",
   "source": [
    "## Step 2: Extract relevant data\n",
    "Miles per gallon, horsepower, weight and origin will be extracted from our data. "
   ],
   "metadata": {
    "collapsed": false
   }
  },
  {
   "cell_type": "code",
   "execution_count": 52,
   "outputs": [],
   "source": [
    "import numpy as np\n",
    "y = cars.iloc[:,0].values # returns a numpy.ndarray all rows, column 0 (miles per gallon)\n",
    "X = pd.concat([cars.iloc[:,[3,4]], pd.get_dummies(cars[7])], axis = 1).values"
   ],
   "metadata": {
    "collapsed": false,
    "pycharm": {
     "name": "#%%\n",
     "is_executing": false
    }
   }
  },
  {
   "cell_type": "markdown",
   "source": [
    "## Step 3: Predict MPG from Horsepower, Weight and Origin\n",
    "Correlation coefficient and mean squared error (MSE) are also calculated. "
   ],
   "metadata": {
    "collapsed": false,
    "pycharm": {
     "name": "#%% md\n"
    }
   }
  },
  {
   "cell_type": "code",
   "source": [
    "from sklearn import linear_model\n",
    "\n",
    "#fit linear regression model    \n",
    "reg = linear_model.LinearRegression()\n",
    "reg.fit(X, y)\n",
    "\n",
    "#coefficients\n",
    "reg.intercept_\n",
    "reg.coef_ #cotains values for the different origins\n",
    "\n",
    "# compute correlation coefficient\n",
    "np.corrcoef(reg.predict(X), y)\n",
    "\n",
    "#compute mean squared error (MSE)\n",
    "sum((reg.predict(X) - y)**2) / len(y)\n"
   ],
   "metadata": {
    "collapsed": false,
    "pycharm": {
     "name": "#%% \n",
     "is_executing": false
    }
   },
   "execution_count": 53,
   "outputs": [
    {
     "data": {
      "text/plain": "17.057355871889044"
     },
     "metadata": {},
     "output_type": "execute_result",
     "execution_count": 53
    }
   ]
  }
 ],
 "metadata": {
  "kernelspec": {
   "name": "python3",
   "language": "python",
   "display_name": "Python 3"
  },
  "language_info": {
   "codemirror_mode": {
    "name": "ipython",
    "version": 2
   },
   "file_extension": ".py",
   "mimetype": "text/x-python",
   "name": "python",
   "nbconvert_exporter": "python",
   "pygments_lexer": "ipython2",
   "version": "2.7.6"
  },
  "pycharm": {
   "stem_cell": {
    "cell_type": "raw",
    "source": [],
    "metadata": {
     "collapsed": false
    }
   }
  }
 },
 "nbformat": 4,
 "nbformat_minor": 0
}