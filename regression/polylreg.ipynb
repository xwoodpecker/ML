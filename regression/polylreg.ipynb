{
 "cells": [
  {
   "cell_type": "markdown",
   "source": [
    "# Polynomial Regression\n",
    "\n",
    "$\\hat{y} = w_o+w_1 \\cdot x+w_2 \\cdot x^2 +\\ ...\\, +w_d \\cdot x^d $  "
   ],
   "metadata": {
    "collapsed": false
   }
  },
  {
   "cell_type": "markdown",
   "source": [
    "## Data Import"
   ],
   "metadata": {
    "collapsed": false,
    "pycharm": {
     "name": "#%% md\n"
    }
   }
  },
  {
   "cell_type": "code",
   "execution_count": 21,
   "metadata": {
    "collapsed": true,
    "pycharm": {
     "is_executing": false,
     "name": "#%%\n"
    }
   },
   "outputs": [],
   "source": [
    "import pandas as pd \n",
    "\n",
    "cars = pd.read_csv('/Users/WoodPecker/PycharmProjects/JupyterProject/auto-mpg.data.txt', header=None, sep='\\s+')"
   ]
  },
  {
   "cell_type": "markdown",
   "source": [
    "## Extract relevant data"
   ],
   "metadata": {
    "collapsed": false
   }
  },
  {
   "cell_type": "code",
   "execution_count": 22,
   "outputs": [],
   "source": [
    "import numpy as np\n",
    "y = cars.iloc[:,0].values \n",
    "x = cars.iloc[:,[3]].values\n",
    "x = x.reshape(x.size, 1)"
   ],
   "metadata": {
    "collapsed": false,
    "pycharm": {
     "name": "#%%\n",
     "is_executing": false
    }
   }
  },
  {
   "cell_type": "markdown",
   "source": [
    "## Fit regression model"
   ],
   "metadata": {
    "collapsed": false
   }
  },
  {
   "cell_type": "code",
   "source": [
    "from sklearn import linear_model, preprocessing\n",
    "\n",
    "# precompute polynomial features\n",
    "poly = preprocessing.PolynomialFeatures(2)\n",
    "Xp = poly.fit_transform(x)\n",
    "# fit linear regression model\n",
    "reg = linear_model.LinearRegression()\n",
    "reg.fit(Xp,y)\n",
    "\n",
    "# coefficients\n",
    "reg.intercept_ \n",
    "reg.coef_ \n",
    "\n",
    "# compute correlation coefficient\n",
    "np.corrcoef(reg.predict(Xp),y) \n",
    "# compute mean squared error (MSE)\n",
    "sum((reg.predict(Xp) - y)**2) / len(y) "
   ],
   "metadata": {
    "collapsed": false,
    "pycharm": {
     "name": "#%% \n",
     "is_executing": false
    }
   },
   "execution_count": 23,
   "outputs": [
    {
     "data": {
      "text/plain": "18.98476890761722"
     },
     "metadata": {},
     "output_type": "execute_result",
     "execution_count": 23
    }
   ]
  },
  {
   "cell_type": "markdown",
   "source": [
    "## Plot the Polynomial"
   ],
   "metadata": {
    "collapsed": false,
    "pycharm": {
     "name": "#%% md\n"
    }
   }
  },
  {
   "cell_type": "code",
   "execution_count": 24,
   "outputs": [
    {
     "data": {
      "text/plain": "<Figure size 432x288 with 1 Axes>",
      "image/png": "[encoded data removed]"
     },
     "metadata": {
      "needs_background": "light"
     },
     "output_type": "display_data"
    }
   ],
   "source": [
    "import matplotlib.pyplot as plt\n",
    "\n",
    "\n",
    "mpg = y\n",
    "hp = np.array(sorted(x))\n",
    "hpp = poly.fit_transform(hp)\n",
    "plt.scatter(x, mpg, color='blue', marker='x')\n",
    "plt.plot(hp, reg.predict(hpp), color='red', lw=2)\n",
    "plt.xlabel('Power [hp]')\n",
    "plt.ylabel('Fuel consumption [miles/gallon]')\n",
    "plt.show()"
   ],
   "metadata": {
    "collapsed": false,
    "pycharm": {
     "name": "#%%\n",
     "is_executing": false
    }
   }
  }
 ],
 "metadata": {
  "kernelspec": {
   "name": "python3",
   "language": "python",
   "display_name": "Python 3"
  },
  "language_info": {
   "codemirror_mode": {
    "name": "ipython",
    "version": 2
   },
   "file_extension": ".py",
   "mimetype": "text/x-python",
   "name": "python",
   "nbconvert_exporter": "python",
   "pygments_lexer": "ipython2",
   "version": "2.7.6"
  },
  "pycharm": {
   "stem_cell": {
    "cell_type": "raw",
    "source": [],
    "metadata": {
     "collapsed": false
    }
   }
  }
 },
 "nbformat": 4,
 "nbformat_minor": 0
}